{
 "cells": [
  {
   "cell_type": "markdown",
   "metadata": {},
   "source": [
    "# Get Translation 🎢"
   ]
  },
  {
   "cell_type": "markdown",
   "metadata": {},
   "source": [
    "This is the script I created to translate all the lyrics into English using the TextBlob library. It should be noted that because TextBlob runs on the Google Translate API, there is a maximum number of requests that you can make with TextBlob and this should be taken into account when using this script. "
   ]
  },
  {
   "cell_type": "code",
   "execution_count": 2,
   "metadata": {},
   "outputs": [],
   "source": [
    "# Import the libraries \n",
    "import pandas as pd \n",
    "import time\n",
    "from langdetect import detect\n",
    "from textblob import TextBlob"
   ]
  },
  {
   "cell_type": "code",
   "execution_count": null,
   "metadata": {},
   "outputs": [],
   "source": [
    "# Load the data \n",
    "path = #Enter the file path for the dataset here \n",
    "data = pd.read_csv(path, encoding=\"ISO-8859-1\", index_col=0)"
   ]
  },
  {
   "cell_type": "code",
   "execution_count": null,
   "metadata": {},
   "outputs": [],
   "source": [
    " # Check the data to make sure it looks ok \n",
    "data.head()    "
   ]
  },
  {
   "cell_type": "code",
   "execution_count": null,
   "metadata": {},
   "outputs": [],
   "source": [
    "# Now we need to get the song language \n",
    "def language_detection(text):\n",
    "    try:\n",
    "        return detect(text)\n",
    "    except:\n",
    "        return None"
   ]
  },
  {
   "cell_type": "code",
   "execution_count": null,
   "metadata": {},
   "outputs": [],
   "source": [
    "# Execute the function to get the language \n",
    "data['language'] = data['lyrics'].apply(language_detection)"
   ]
  },
  {
   "cell_type": "code",
   "execution_count": null,
   "metadata": {},
   "outputs": [],
   "source": [
    "# Now we need to translate the lyrics \n",
    "def translate_lyrics(df): \n",
    "    translated_text = []\n",
    "    for i in range(len(df.song_title)): \n",
    "        text = df.lyrics[i]\n",
    "        language = df.language[i]\n",
    "        if language != 'en': \n",
    "            blob = TextBlob(text)\n",
    "            text = blob.translate(to='en')\n",
    "            translated_text.append(str(text))\n",
    "            time.sleep(0.5)\n",
    "        else: \n",
    "            translated_text.append(text)\n",
    "    return pd.Series(translated_text)"
   ]
  },
  {
   "cell_type": "code",
   "execution_count": null,
   "metadata": {},
   "outputs": [],
   "source": [
    "# Execute the function to translate the lyrics\n",
    "data['en_translation'] = translate_lyrics(data)"
   ]
  },
  {
   "cell_type": "code",
   "execution_count": null,
   "metadata": {},
   "outputs": [],
   "source": [
    "# Save the translated lyrics to .csv                   # If ANSI encoding doesn't work, delete it and just \n",
    "data.to_csv('translated.csv', encoding='ANSI')         # save it to csv without the encoding "
   ]
  }
 ],
 "metadata": {
  "kernelspec": {
   "display_name": "Python 3",
   "language": "python",
   "name": "python3"
  },
  "language_info": {
   "codemirror_mode": {
    "name": "ipython",
    "version": 3
   },
   "file_extension": ".py",
   "mimetype": "text/x-python",
   "name": "python",
   "nbconvert_exporter": "python",
   "pygments_lexer": "ipython3",
   "version": "3.8.1"
  }
 },
 "nbformat": 4,
 "nbformat_minor": 4
}
